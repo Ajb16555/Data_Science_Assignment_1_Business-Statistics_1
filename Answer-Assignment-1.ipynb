{
 "cells": [
  {
   "cell_type": "markdown",
   "metadata": {},
   "source": [
    "DATA SCIENCE- ASSIGNMENT ONE"
   ]
  },
  {
   "cell_type": "markdown",
   "metadata": {},
   "source": [
    "NOTE: Some answers of the questions are being done on the MS-Word file itself."
   ]
  },
  {
   "cell_type": "markdown",
   "metadata": {},
   "source": [
    "Q7) Calculate Mean, Median, Mode, Variance, Standard Deviation, Range &     comment about the values / draw inferences, for the given dataset\n",
    "-\tFor Points,Score,Weigh>\n",
    "Find Mean, Median, Mode, Variance, Standard Deviation, and Range and also Comment about the values/ Draw some inferences.\n",
    "Use Q7.csv file \n"
   ]
  },
  {
   "cell_type": "code",
   "execution_count": 2,
   "metadata": {},
   "outputs": [],
   "source": [
    "import pandas as pd \n",
    "import numpy as np\n",
    "import matplotlib.pyplot as pyplot\n",
    "import seaborn as sns"
   ]
  },
  {
   "cell_type": "code",
   "execution_count": 3,
   "metadata": {},
   "outputs": [],
   "source": [
    "dataQ7 = pd.read_csv(r\"Q7.csv\")"
   ]
  },
  {
   "cell_type": "code",
   "execution_count": 9,
   "metadata": {},
   "outputs": [
    {
     "data": {
      "text/html": [
       "<div>\n",
       "<style scoped>\n",
       "    .dataframe tbody tr th:only-of-type {\n",
       "        vertical-align: middle;\n",
       "    }\n",
       "\n",
       "    .dataframe tbody tr th {\n",
       "        vertical-align: top;\n",
       "    }\n",
       "\n",
       "    .dataframe thead th {\n",
       "        text-align: right;\n",
       "    }\n",
       "</style>\n",
       "<table border=\"1\" class=\"dataframe\">\n",
       "  <thead>\n",
       "    <tr style=\"text-align: right;\">\n",
       "      <th></th>\n",
       "      <th>Cars</th>\n",
       "      <th>Points</th>\n",
       "      <th>Score</th>\n",
       "      <th>Weigh</th>\n",
       "    </tr>\n",
       "  </thead>\n",
       "  <tbody>\n",
       "    <tr>\n",
       "      <th>0</th>\n",
       "      <td>Mazda RX4</td>\n",
       "      <td>3.90</td>\n",
       "      <td>2.620</td>\n",
       "      <td>16.46</td>\n",
       "    </tr>\n",
       "    <tr>\n",
       "      <th>1</th>\n",
       "      <td>Mazda RX4 Wag</td>\n",
       "      <td>3.90</td>\n",
       "      <td>2.875</td>\n",
       "      <td>17.02</td>\n",
       "    </tr>\n",
       "    <tr>\n",
       "      <th>2</th>\n",
       "      <td>Datsun 710</td>\n",
       "      <td>3.85</td>\n",
       "      <td>2.320</td>\n",
       "      <td>18.61</td>\n",
       "    </tr>\n",
       "    <tr>\n",
       "      <th>3</th>\n",
       "      <td>Hornet 4 Drive</td>\n",
       "      <td>3.08</td>\n",
       "      <td>3.215</td>\n",
       "      <td>19.44</td>\n",
       "    </tr>\n",
       "    <tr>\n",
       "      <th>4</th>\n",
       "      <td>Hornet Sportabout</td>\n",
       "      <td>3.15</td>\n",
       "      <td>3.440</td>\n",
       "      <td>17.02</td>\n",
       "    </tr>\n",
       "    <tr>\n",
       "      <th>5</th>\n",
       "      <td>Valiant</td>\n",
       "      <td>2.76</td>\n",
       "      <td>3.460</td>\n",
       "      <td>20.22</td>\n",
       "    </tr>\n",
       "    <tr>\n",
       "      <th>6</th>\n",
       "      <td>Duster 360</td>\n",
       "      <td>3.21</td>\n",
       "      <td>3.570</td>\n",
       "      <td>15.84</td>\n",
       "    </tr>\n",
       "    <tr>\n",
       "      <th>7</th>\n",
       "      <td>Merc 240D</td>\n",
       "      <td>3.69</td>\n",
       "      <td>3.190</td>\n",
       "      <td>20.00</td>\n",
       "    </tr>\n",
       "    <tr>\n",
       "      <th>8</th>\n",
       "      <td>Merc 230</td>\n",
       "      <td>3.92</td>\n",
       "      <td>3.150</td>\n",
       "      <td>22.90</td>\n",
       "    </tr>\n",
       "    <tr>\n",
       "      <th>9</th>\n",
       "      <td>Merc 280</td>\n",
       "      <td>3.92</td>\n",
       "      <td>3.440</td>\n",
       "      <td>18.30</td>\n",
       "    </tr>\n",
       "    <tr>\n",
       "      <th>10</th>\n",
       "      <td>Merc 280C</td>\n",
       "      <td>3.92</td>\n",
       "      <td>3.440</td>\n",
       "      <td>18.90</td>\n",
       "    </tr>\n",
       "    <tr>\n",
       "      <th>11</th>\n",
       "      <td>Merc 450SE</td>\n",
       "      <td>3.07</td>\n",
       "      <td>4.070</td>\n",
       "      <td>17.40</td>\n",
       "    </tr>\n",
       "    <tr>\n",
       "      <th>12</th>\n",
       "      <td>Merc 450SL</td>\n",
       "      <td>3.07</td>\n",
       "      <td>3.730</td>\n",
       "      <td>17.60</td>\n",
       "    </tr>\n",
       "    <tr>\n",
       "      <th>13</th>\n",
       "      <td>Merc 450SLC</td>\n",
       "      <td>3.07</td>\n",
       "      <td>3.780</td>\n",
       "      <td>18.00</td>\n",
       "    </tr>\n",
       "    <tr>\n",
       "      <th>14</th>\n",
       "      <td>Cadillac Fleetwood</td>\n",
       "      <td>2.93</td>\n",
       "      <td>5.250</td>\n",
       "      <td>17.98</td>\n",
       "    </tr>\n",
       "    <tr>\n",
       "      <th>15</th>\n",
       "      <td>Lincoln Continental</td>\n",
       "      <td>3.00</td>\n",
       "      <td>5.424</td>\n",
       "      <td>17.82</td>\n",
       "    </tr>\n",
       "    <tr>\n",
       "      <th>16</th>\n",
       "      <td>Chrysler Imperial</td>\n",
       "      <td>3.23</td>\n",
       "      <td>5.345</td>\n",
       "      <td>17.42</td>\n",
       "    </tr>\n",
       "    <tr>\n",
       "      <th>17</th>\n",
       "      <td>Fiat 128</td>\n",
       "      <td>4.08</td>\n",
       "      <td>2.200</td>\n",
       "      <td>19.47</td>\n",
       "    </tr>\n",
       "    <tr>\n",
       "      <th>18</th>\n",
       "      <td>Honda Civic</td>\n",
       "      <td>4.93</td>\n",
       "      <td>1.615</td>\n",
       "      <td>18.52</td>\n",
       "    </tr>\n",
       "    <tr>\n",
       "      <th>19</th>\n",
       "      <td>Toyota Corolla</td>\n",
       "      <td>4.22</td>\n",
       "      <td>1.835</td>\n",
       "      <td>19.90</td>\n",
       "    </tr>\n",
       "    <tr>\n",
       "      <th>20</th>\n",
       "      <td>Toyota Corona</td>\n",
       "      <td>3.70</td>\n",
       "      <td>2.465</td>\n",
       "      <td>20.01</td>\n",
       "    </tr>\n",
       "    <tr>\n",
       "      <th>21</th>\n",
       "      <td>Dodge Challenger</td>\n",
       "      <td>2.76</td>\n",
       "      <td>3.520</td>\n",
       "      <td>16.87</td>\n",
       "    </tr>\n",
       "    <tr>\n",
       "      <th>22</th>\n",
       "      <td>AMC Javelin</td>\n",
       "      <td>3.15</td>\n",
       "      <td>3.435</td>\n",
       "      <td>17.30</td>\n",
       "    </tr>\n",
       "    <tr>\n",
       "      <th>23</th>\n",
       "      <td>Camaro Z28</td>\n",
       "      <td>3.73</td>\n",
       "      <td>3.840</td>\n",
       "      <td>15.41</td>\n",
       "    </tr>\n",
       "    <tr>\n",
       "      <th>24</th>\n",
       "      <td>Pontiac Firebird</td>\n",
       "      <td>3.08</td>\n",
       "      <td>3.845</td>\n",
       "      <td>17.05</td>\n",
       "    </tr>\n",
       "    <tr>\n",
       "      <th>25</th>\n",
       "      <td>Fiat X1-9</td>\n",
       "      <td>4.08</td>\n",
       "      <td>1.935</td>\n",
       "      <td>18.90</td>\n",
       "    </tr>\n",
       "    <tr>\n",
       "      <th>26</th>\n",
       "      <td>Porsche 914-2</td>\n",
       "      <td>4.43</td>\n",
       "      <td>2.140</td>\n",
       "      <td>16.70</td>\n",
       "    </tr>\n",
       "    <tr>\n",
       "      <th>27</th>\n",
       "      <td>Lotus Europa</td>\n",
       "      <td>3.77</td>\n",
       "      <td>1.513</td>\n",
       "      <td>16.90</td>\n",
       "    </tr>\n",
       "    <tr>\n",
       "      <th>28</th>\n",
       "      <td>Ford Pantera L</td>\n",
       "      <td>4.22</td>\n",
       "      <td>3.170</td>\n",
       "      <td>14.50</td>\n",
       "    </tr>\n",
       "    <tr>\n",
       "      <th>29</th>\n",
       "      <td>Ferrari Dino</td>\n",
       "      <td>3.62</td>\n",
       "      <td>2.770</td>\n",
       "      <td>15.50</td>\n",
       "    </tr>\n",
       "    <tr>\n",
       "      <th>30</th>\n",
       "      <td>Maserati Bora</td>\n",
       "      <td>3.54</td>\n",
       "      <td>3.570</td>\n",
       "      <td>14.60</td>\n",
       "    </tr>\n",
       "    <tr>\n",
       "      <th>31</th>\n",
       "      <td>Volvo 142E</td>\n",
       "      <td>4.11</td>\n",
       "      <td>2.780</td>\n",
       "      <td>18.60</td>\n",
       "    </tr>\n",
       "  </tbody>\n",
       "</table>\n",
       "</div>"
      ],
      "text/plain": [
       "                   Cars  Points  Score  Weigh\n",
       "0             Mazda RX4    3.90  2.620  16.46\n",
       "1         Mazda RX4 Wag    3.90  2.875  17.02\n",
       "2            Datsun 710    3.85  2.320  18.61\n",
       "3        Hornet 4 Drive    3.08  3.215  19.44\n",
       "4     Hornet Sportabout    3.15  3.440  17.02\n",
       "5               Valiant    2.76  3.460  20.22\n",
       "6            Duster 360    3.21  3.570  15.84\n",
       "7             Merc 240D    3.69  3.190  20.00\n",
       "8              Merc 230    3.92  3.150  22.90\n",
       "9              Merc 280    3.92  3.440  18.30\n",
       "10            Merc 280C    3.92  3.440  18.90\n",
       "11           Merc 450SE    3.07  4.070  17.40\n",
       "12           Merc 450SL    3.07  3.730  17.60\n",
       "13          Merc 450SLC    3.07  3.780  18.00\n",
       "14   Cadillac Fleetwood    2.93  5.250  17.98\n",
       "15  Lincoln Continental    3.00  5.424  17.82\n",
       "16    Chrysler Imperial    3.23  5.345  17.42\n",
       "17             Fiat 128    4.08  2.200  19.47\n",
       "18          Honda Civic    4.93  1.615  18.52\n",
       "19       Toyota Corolla    4.22  1.835  19.90\n",
       "20        Toyota Corona    3.70  2.465  20.01\n",
       "21     Dodge Challenger    2.76  3.520  16.87\n",
       "22          AMC Javelin    3.15  3.435  17.30\n",
       "23           Camaro Z28    3.73  3.840  15.41\n",
       "24     Pontiac Firebird    3.08  3.845  17.05\n",
       "25            Fiat X1-9    4.08  1.935  18.90\n",
       "26        Porsche 914-2    4.43  2.140  16.70\n",
       "27         Lotus Europa    3.77  1.513  16.90\n",
       "28       Ford Pantera L    4.22  3.170  14.50\n",
       "29         Ferrari Dino    3.62  2.770  15.50\n",
       "30        Maserati Bora    3.54  3.570  14.60\n",
       "31           Volvo 142E    4.11  2.780  18.60"
      ]
     },
     "execution_count": 9,
     "metadata": {},
     "output_type": "execute_result"
    }
   ],
   "source": [
    "dataQ7"
   ]
  },
  {
   "cell_type": "code",
   "execution_count": 10,
   "metadata": {},
   "outputs": [
    {
     "data": {
      "text/html": [
       "<div>\n",
       "<style scoped>\n",
       "    .dataframe tbody tr th:only-of-type {\n",
       "        vertical-align: middle;\n",
       "    }\n",
       "\n",
       "    .dataframe tbody tr th {\n",
       "        vertical-align: top;\n",
       "    }\n",
       "\n",
       "    .dataframe thead th {\n",
       "        text-align: right;\n",
       "    }\n",
       "</style>\n",
       "<table border=\"1\" class=\"dataframe\">\n",
       "  <thead>\n",
       "    <tr style=\"text-align: right;\">\n",
       "      <th></th>\n",
       "      <th>Cars</th>\n",
       "      <th>Points</th>\n",
       "      <th>Score</th>\n",
       "      <th>Weigh</th>\n",
       "    </tr>\n",
       "  </thead>\n",
       "  <tbody>\n",
       "    <tr>\n",
       "      <th>0</th>\n",
       "      <td>Mazda RX4</td>\n",
       "      <td>3.90</td>\n",
       "      <td>2.620</td>\n",
       "      <td>16.46</td>\n",
       "    </tr>\n",
       "    <tr>\n",
       "      <th>1</th>\n",
       "      <td>Mazda RX4 Wag</td>\n",
       "      <td>3.90</td>\n",
       "      <td>2.875</td>\n",
       "      <td>17.02</td>\n",
       "    </tr>\n",
       "    <tr>\n",
       "      <th>2</th>\n",
       "      <td>Datsun 710</td>\n",
       "      <td>3.85</td>\n",
       "      <td>2.320</td>\n",
       "      <td>18.61</td>\n",
       "    </tr>\n",
       "    <tr>\n",
       "      <th>3</th>\n",
       "      <td>Hornet 4 Drive</td>\n",
       "      <td>3.08</td>\n",
       "      <td>3.215</td>\n",
       "      <td>19.44</td>\n",
       "    </tr>\n",
       "    <tr>\n",
       "      <th>4</th>\n",
       "      <td>Hornet Sportabout</td>\n",
       "      <td>3.15</td>\n",
       "      <td>3.440</td>\n",
       "      <td>17.02</td>\n",
       "    </tr>\n",
       "  </tbody>\n",
       "</table>\n",
       "</div>"
      ],
      "text/plain": [
       "                Cars  Points  Score  Weigh\n",
       "0          Mazda RX4    3.90  2.620  16.46\n",
       "1      Mazda RX4 Wag    3.90  2.875  17.02\n",
       "2         Datsun 710    3.85  2.320  18.61\n",
       "3     Hornet 4 Drive    3.08  3.215  19.44\n",
       "4  Hornet Sportabout    3.15  3.440  17.02"
      ]
     },
     "execution_count": 10,
     "metadata": {},
     "output_type": "execute_result"
    }
   ],
   "source": [
    "dataQ7.head()"
   ]
  },
  {
   "cell_type": "code",
   "execution_count": 11,
   "metadata": {},
   "outputs": [
    {
     "data": {
      "text/plain": [
       "(32, 4)"
      ]
     },
     "execution_count": 11,
     "metadata": {},
     "output_type": "execute_result"
    }
   ],
   "source": [
    "dataQ7.shape"
   ]
  },
  {
   "cell_type": "code",
   "execution_count": 4,
   "metadata": {},
   "outputs": [
    {
     "data": {
      "text/html": [
       "<div>\n",
       "<style scoped>\n",
       "    .dataframe tbody tr th:only-of-type {\n",
       "        vertical-align: middle;\n",
       "    }\n",
       "\n",
       "    .dataframe tbody tr th {\n",
       "        vertical-align: top;\n",
       "    }\n",
       "\n",
       "    .dataframe thead th {\n",
       "        text-align: right;\n",
       "    }\n",
       "</style>\n",
       "<table border=\"1\" class=\"dataframe\">\n",
       "  <thead>\n",
       "    <tr style=\"text-align: right;\">\n",
       "      <th></th>\n",
       "      <th>Points</th>\n",
       "      <th>Score</th>\n",
       "      <th>Weigh</th>\n",
       "    </tr>\n",
       "  </thead>\n",
       "  <tbody>\n",
       "    <tr>\n",
       "      <th>count</th>\n",
       "      <td>32.000000</td>\n",
       "      <td>32.000000</td>\n",
       "      <td>32.000000</td>\n",
       "    </tr>\n",
       "    <tr>\n",
       "      <th>mean</th>\n",
       "      <td>3.596563</td>\n",
       "      <td>3.217250</td>\n",
       "      <td>17.848750</td>\n",
       "    </tr>\n",
       "    <tr>\n",
       "      <th>std</th>\n",
       "      <td>0.534679</td>\n",
       "      <td>0.978457</td>\n",
       "      <td>1.786943</td>\n",
       "    </tr>\n",
       "    <tr>\n",
       "      <th>min</th>\n",
       "      <td>2.760000</td>\n",
       "      <td>1.513000</td>\n",
       "      <td>14.500000</td>\n",
       "    </tr>\n",
       "    <tr>\n",
       "      <th>25%</th>\n",
       "      <td>3.080000</td>\n",
       "      <td>2.581250</td>\n",
       "      <td>16.892500</td>\n",
       "    </tr>\n",
       "    <tr>\n",
       "      <th>50%</th>\n",
       "      <td>3.695000</td>\n",
       "      <td>3.325000</td>\n",
       "      <td>17.710000</td>\n",
       "    </tr>\n",
       "    <tr>\n",
       "      <th>75%</th>\n",
       "      <td>3.920000</td>\n",
       "      <td>3.610000</td>\n",
       "      <td>18.900000</td>\n",
       "    </tr>\n",
       "    <tr>\n",
       "      <th>max</th>\n",
       "      <td>4.930000</td>\n",
       "      <td>5.424000</td>\n",
       "      <td>22.900000</td>\n",
       "    </tr>\n",
       "  </tbody>\n",
       "</table>\n",
       "</div>"
      ],
      "text/plain": [
       "          Points      Score      Weigh\n",
       "count  32.000000  32.000000  32.000000\n",
       "mean    3.596563   3.217250  17.848750\n",
       "std     0.534679   0.978457   1.786943\n",
       "min     2.760000   1.513000  14.500000\n",
       "25%     3.080000   2.581250  16.892500\n",
       "50%     3.695000   3.325000  17.710000\n",
       "75%     3.920000   3.610000  18.900000\n",
       "max     4.930000   5.424000  22.900000"
      ]
     },
     "execution_count": 4,
     "metadata": {},
     "output_type": "execute_result"
    }
   ],
   "source": [
    "dataQ7.describe()"
   ]
  },
  {
   "cell_type": "code",
   "execution_count": null,
   "metadata": {},
   "outputs": [
    {
     "data": {
      "text/plain": [
       "Points     3.695\n",
       "Score      3.325\n",
       "Weigh     17.710\n",
       "dtype: float64"
      ]
     },
     "execution_count": 12,
     "metadata": {},
     "output_type": "execute_result"
    }
   ],
   "source": [
    "dataQ7.median()"
   ]
  },
  {
   "cell_type": "code",
   "execution_count": null,
   "metadata": {},
   "outputs": [
    {
     "data": {
      "text/html": [
       "<div>\n",
       "<style scoped>\n",
       "    .dataframe tbody tr th:only-of-type {\n",
       "        vertical-align: middle;\n",
       "    }\n",
       "\n",
       "    .dataframe tbody tr th {\n",
       "        vertical-align: top;\n",
       "    }\n",
       "\n",
       "    .dataframe thead th {\n",
       "        text-align: right;\n",
       "    }\n",
       "</style>\n",
       "<table border=\"1\" class=\"dataframe\">\n",
       "  <thead>\n",
       "    <tr style=\"text-align: right;\">\n",
       "      <th></th>\n",
       "      <th>Points</th>\n",
       "      <th>Score</th>\n",
       "      <th>Weigh</th>\n",
       "    </tr>\n",
       "  </thead>\n",
       "  <tbody>\n",
       "    <tr>\n",
       "      <th>0</th>\n",
       "      <td>3.07</td>\n",
       "      <td>3.44</td>\n",
       "      <td>17.02</td>\n",
       "    </tr>\n",
       "    <tr>\n",
       "      <th>1</th>\n",
       "      <td>3.92</td>\n",
       "      <td>NaN</td>\n",
       "      <td>18.90</td>\n",
       "    </tr>\n",
       "  </tbody>\n",
       "</table>\n",
       "</div>"
      ],
      "text/plain": [
       "   Points  Score  Weigh\n",
       "0    3.07   3.44  17.02\n",
       "1    3.92    NaN  18.90"
      ]
     },
     "execution_count": 13,
     "metadata": {},
     "output_type": "execute_result"
    }
   ],
   "source": [
    "dataQ7.mode()"
   ]
  },
  {
   "cell_type": "code",
   "execution_count": null,
   "metadata": {},
   "outputs": [
    {
     "name": "stdout",
     "output_type": "stream",
     "text": [
      "Points     4.930\n",
      "Score      5.424\n",
      "Weigh     22.900\n",
      "dtype: float64\n"
     ]
    }
   ],
   "source": [
    "print(dataQ7.max())"
   ]
  },
  {
   "cell_type": "code",
   "execution_count": null,
   "metadata": {},
   "outputs": [
    {
     "name": "stdout",
     "output_type": "stream",
     "text": [
      "Points     2.760\n",
      "Score      1.513\n",
      "Weigh     14.500\n",
      "dtype: float64\n"
     ]
    }
   ],
   "source": [
    "print(dataQ7.min())"
   ]
  },
  {
   "cell_type": "code",
   "execution_count": null,
   "metadata": {},
   "outputs": [],
   "source": [
    "Q7range = dataQ7.max() - dataQ7.min()"
   ]
  },
  {
   "cell_type": "code",
   "execution_count": null,
   "metadata": {},
   "outputs": [
    {
     "name": "stdout",
     "output_type": "stream",
     "text": [
      "Points    2.170\n",
      "Score     3.911\n",
      "Weigh     8.400\n",
      "dtype: float64\n"
     ]
    }
   ],
   "source": [
    "print(Q7range)"
   ]
  },
  {
   "cell_type": "code",
   "execution_count": null,
   "metadata": {},
   "outputs": [],
   "source": [
    "Q7stds = dataQ7.std()"
   ]
  },
  {
   "cell_type": "code",
   "execution_count": null,
   "metadata": {},
   "outputs": [
    {
     "name": "stdout",
     "output_type": "stream",
     "text": [
      "Points    0.534679\n",
      "Score     0.978457\n",
      "Weigh     1.786943\n",
      "dtype: float64\n"
     ]
    }
   ],
   "source": [
    "print(Q7stds)"
   ]
  },
  {
   "cell_type": "code",
   "execution_count": null,
   "metadata": {},
   "outputs": [],
   "source": [
    "Q7var = dataQ7.var()"
   ]
  },
  {
   "cell_type": "code",
   "execution_count": null,
   "metadata": {},
   "outputs": [
    {
     "name": "stdout",
     "output_type": "stream",
     "text": [
      "Points    0.285881\n",
      "Score     0.957379\n",
      "Weigh     3.193166\n",
      "dtype: float64\n"
     ]
    }
   ],
   "source": [
    "print(Q7var)"
   ]
  },
  {
   "cell_type": "code",
   "execution_count": null,
   "metadata": {},
   "outputs": [],
   "source": [
    "highest_points_cars = dataQ7.loc[dataQ7[\"Points\"].idxmax(), \"Cars\"]"
   ]
  },
  {
   "cell_type": "code",
   "execution_count": null,
   "metadata": {},
   "outputs": [
    {
     "name": "stdout",
     "output_type": "stream",
     "text": [
      "Honda Civic\n"
     ]
    }
   ],
   "source": [
    "print(highest_points_cars)"
   ]
  },
  {
   "cell_type": "code",
   "execution_count": null,
   "metadata": {},
   "outputs": [],
   "source": [
    "lowest_points_cars = dataQ7.loc[dataQ7[\"Points\"].idxmin(), \"Cars\"]"
   ]
  },
  {
   "cell_type": "code",
   "execution_count": null,
   "metadata": {},
   "outputs": [
    {
     "name": "stdout",
     "output_type": "stream",
     "text": [
      "Honda Civic\n",
      "Valiant\n"
     ]
    }
   ],
   "source": [
    "print(highest_points_cars)\n",
    "print(lowest_points_cars)"
   ]
  },
  {
   "cell_type": "code",
   "execution_count": null,
   "metadata": {},
   "outputs": [
    {
     "name": "stdout",
     "output_type": "stream",
     "text": [
      "Lincoln Continental\n",
      "Lotus Europa\n"
     ]
    }
   ],
   "source": [
    "highest_score_cars = dataQ7.loc[dataQ7[\"Score\"].idxmax(), \"Cars\"]\n",
    "lowest_score_cars = dataQ7.loc[dataQ7[\"Score\"].idxmin(), \"Cars\"]\n",
    "print(highest_score_cars)\n",
    "print(lowest_score_cars)"
   ]
  },
  {
   "cell_type": "code",
   "execution_count": null,
   "metadata": {},
   "outputs": [
    {
     "name": "stdout",
     "output_type": "stream",
     "text": [
      "Merc 230\n",
      "Ford Pantera L\n"
     ]
    }
   ],
   "source": [
    "\n",
    "highest_weight_cars = dataQ7.loc[dataQ7[\"Weigh\"].idxmax(), \"Cars\"]\n",
    "lowest_weight_cars = dataQ7.loc[dataQ7[\"Weigh\"].idxmin(), \"Cars\"]\n",
    "print(highest_weight_cars)\n",
    "print(lowest_weight_cars)\n",
    "\n"
   ]
  },
  {
   "cell_type": "markdown",
   "metadata": {},
   "source": [
    "Q 7. INFERENCES:\n",
    "\n",
    "1. Mean: Mean represents the overall value of a particular list of data. It gives an overall idea abouta set of data being collected.\n",
    "2. Mode: It represents which of value have seen more number of attendance or which value has been repeated the most from the overall list of elements.\n",
    "3. Median: It represents the middle-most point of data.\n",
    "4. Range: Range is the highest and lowest point of any given data.\n",
    "5. Standard Deviation:\n",
    "6. Variance: \n",
    " \n",
    "        The above dataset which has details about cars. There are three details about the car being told is points, score and weight. The Top three cars in the above being Mazda RX4, \n",
    " Mazda RX4 Wag and Datsun 710. Some analysis  is given as below:\n",
    "\n",
    "        A. Points:\n",
    "\n",
    "1. Range                : The range of the score is 2.170. The Highest point being 4.930 and the lowest point in the data is 2.760.\n",
    "2. Mean                 : The mean of the point is 3.5965\n",
    "3. Median               : Median of the points is 3.695\n",
    "4. Mode                 : Mode of the points is 3.07.\n",
    "5. Standard deviation   : The standard deviation of the Points is 0.5347\n",
    "5. Variance             : The Variance of the Points is 0.2859.\n",
    "\n",
    "        B. Score:\n",
    "\n",
    "1. Range                : The range of the score is 3.911. The Highest score being 5.424 and the lowest score in the data is 1.513.\n",
    "2. Mean                 : The mean of the score is 3.21725\n",
    "3. Median               : Median of the score is 3.325\n",
    "4. Mode                 : Mode of the score is 3.44.\n",
    "5. Standard deviation   : The standarad deviation of the score is 0.9784.\n",
    "5. Variance             : The Variance of the score is 0.9574.\n",
    "\n",
    "        C. Weigh:\n",
    "\n",
    "1. Range                : The range of the score is 8.4. The Highest score being 22.9 and the lowest score in the data is 14.5.\n",
    "2. Mean                 : The mean of the score is 17.85.\n",
    "3. Median               : Median of the score is 17.71\n",
    "4. Mode                 : Mode of the score is 17.02.\n",
    "5. Standard deviation   : The standarad deviation of the score is 1.79.\n",
    "5. Variance             : The Variance of the score is 3.19.\n",
    "\n",
    "        When it comes to points, the minimum value of the points was of Honda Civic and highest value in points was of Valiant.\n",
    "        The highest score was of Lincoln Continental and lowest score was of Lotus Europa.\n",
    "        The car with highest weight was Merc 230 and with lowest weight was Ford Pantera L.\n",
    "\n"
   ]
  },
  {
   "cell_type": "markdown",
   "metadata": {},
   "source": [
    "Q8) Calculate Expected Value for the problem below\n",
    "\n",
    "a)\tThe weights (X) of patients at a clinic (in pounds), are\n",
    "108, 110, 123, 134, 135, 145, 167, 187, 199\n",
    "Assume one of the patients is chosen at random. What is the Expected Value of the Weight of that patient?\n"
   ]
  },
  {
   "cell_type": "code",
   "execution_count": null,
   "metadata": {},
   "outputs": [
    {
     "name": "stdout",
     "output_type": "stream",
     "text": [
      "Mean Weight: 145.33333333333334\n"
     ]
    }
   ],
   "source": [
    "x_weights_pounds = (108, 110, 123, 134, 135, 145, 167, 187, 199)\n",
    "mean_weight_x = np.mean(x_weights_pounds)\n",
    "print(\"Mean Weight:\", mean_weight_x)"
   ]
  },
  {
   "cell_type": "markdown",
   "metadata": {},
   "source": [
    "Q9) Calculate Skewness, Kurtosis & draw inferences on the following data.\n",
    "      Cars speed and distance \n",
    "Use Q9_a.csv\n",
    "\n",
    "SP and Weight(WT)\n",
    "Use Q9_b.csv\n"
   ]
  },
  {
   "cell_type": "code",
   "execution_count": 3,
   "metadata": {},
   "outputs": [],
   "source": [
    "\n",
    "Q9a_speed = pd.read_csv(r\"Q9_a.csv\")\n",
    "Q9b_sp = pd.read_csv(r\"Q9_b.csv\")"
   ]
  },
  {
   "cell_type": "markdown",
   "metadata": {},
   "source": [
    "Q9a- CALCULATION OF SKEWNESS AND KURTOSIS OF SPEED AND DISTANCE"
   ]
  },
  {
   "cell_type": "code",
   "execution_count": 4,
   "metadata": {},
   "outputs": [],
   "source": [
    "speed = Q9a_speed[\"speed\"]\n",
    "distance = Q9a_speed[\"dist\"]"
   ]
  },
  {
   "cell_type": "code",
   "execution_count": 5,
   "metadata": {},
   "outputs": [],
   "source": [
    "speed_skewness = speed.skew()\n",
    "distance_skewness = distance.skew()\n",
    "speed_kurtosis = speed.kurt()\n",
    "distance_kurtosis = distance.kurt()"
   ]
  },
  {
   "cell_type": "code",
   "execution_count": 6,
   "metadata": {},
   "outputs": [
    {
     "name": "stdout",
     "output_type": "stream",
     "text": [
      "Speed:\n",
      "Skewness: -0.118\n",
      "Kurtosis: -0.509\n"
     ]
    }
   ],
   "source": [
    "# RESULT of Speed\n",
    "\n",
    "print(\"Speed:\")\n",
    "print(f\"Skewness: {speed_skewness: .3f}\")\n",
    "print(f\"Kurtosis: {speed_kurtosis: .3f}\")"
   ]
  },
  {
   "cell_type": "markdown",
   "metadata": {},
   "source": [
    "i. SPEED- Skewness\n",
    "\n",
    "The weak negative skewness (-0.118) indicating that the speed data is slightly left-skewed. This means there are more values towards the lower end of the speed range compared to the higher end. However, the calculated skewness is very close to 0, indicating that the distribution is close to middle of skewed graph.\n",
    "\n",
    "ii. SPEED- Kurtosis\n",
    "\n",
    "The negative kurtosis (-0.509) means the data might have fewer extreme values. There is not much variations in the speed compared to a normal distribution. It suggests the data leaned in the center and has fewer outliers in the tails."
   ]
  },
  {
   "cell_type": "code",
   "execution_count": null,
   "metadata": {},
   "outputs": [
    {
     "name": "stdout",
     "output_type": "stream",
     "text": [
      "\n",
      "Distance:\n",
      "Skewness:  0.807\n",
      "Kurtosis:  0.405\n"
     ]
    }
   ],
   "source": [
    "\n",
    "# Result of distance\n",
    "\n",
    "print(\"\\nDistance:\")\n",
    "print(f\"Skewness: {distance_skewness: .3f}\")\n",
    "print(f\"Kurtosis: {distance_kurtosis: .3f}\")"
   ]
  },
  {
   "cell_type": "markdown",
   "metadata": {},
   "source": [
    "\n",
    "i. DISTANCE- Skewness\n",
    "\n",
    "The positive skewness of 0.807 indicates that the distance data is highly right-skewed. This means there are more values towards the higher end of the distance range compared to the lower end. It means that shorter distances might be less frequent than longer distances.\n",
    "\n",
    "ii. DISTANCE- Kurtosis\n",
    "\n",
    "The positive kurtosis, 0.405, shows that the data has heavier tails than a normal distribution. This means the data might have more extreme values compared to a normal distribution. However, the value is relatively close to 3, means it's not significantly heavier-tailed.."
   ]
  },
  {
   "cell_type": "markdown",
   "metadata": {},
   "source": [
    "Q 9b. Calculate Skewness, Kurtosis & draw inferences on the following : SP and Weight(WT)"
   ]
  },
  {
   "cell_type": "code",
   "execution_count": 7,
   "metadata": {},
   "outputs": [
    {
     "data": {
      "text/plain": [
       "Index(['Unnamed: 0', 'SP', 'WT'], dtype='object')"
      ]
     },
     "execution_count": 7,
     "metadata": {},
     "output_type": "execute_result"
    }
   ],
   "source": [
    "Q9b_sp.columns"
   ]
  },
  {
   "cell_type": "code",
   "execution_count": 8,
   "metadata": {},
   "outputs": [],
   "source": [
    "SP = Q9b_sp[\"SP\"]\n",
    "WT = Q9b_sp[\"WT\"]"
   ]
  },
  {
   "cell_type": "code",
   "execution_count": 9,
   "metadata": {},
   "outputs": [],
   "source": [
    "SP_skewness = SP.skew()\n",
    "WT_skewness = WT.skew()\n",
    "SP_kurtosis = SP.kurt()\n",
    "WT_kurtosis = WT.kurt()"
   ]
  },
  {
   "cell_type": "code",
   "execution_count": 10,
   "metadata": {},
   "outputs": [
    {
     "name": "stdout",
     "output_type": "stream",
     "text": [
      "SP:\n",
      "Skewness:  1.611\n",
      "Kurtosis:  2.977\n"
     ]
    }
   ],
   "source": [
    "print(\"SP:\")\n",
    "print(f\"Skewness: {SP_skewness: .3f}\")\n",
    "print(f\"Kurtosis: {SP_kurtosis: .3f}\")"
   ]
  },
  {
   "cell_type": "markdown",
   "metadata": {},
   "source": [
    "### SP\n",
    "--Skewness\n",
    "A positive skewness value of 1.611 indicates that the distribution is skewed to the right. The majority of the data points are concentrated on the left side, with lesser values pulling the mean to the right. There are more data-points concentrated on the left side of the distribution with a few larger values on the right side.\n",
    "\n",
    "---Kurtosis\n",
    "\n",
    "A kurtosis value of 2.977 suggests that the distribution is leptokurtic, meaning it has heavier tails and a sharper peak compared to a normal distribution which has a kurtosis of 3. It indicates that the data has more extreme values than a normal distribution.\n"
   ]
  },
  {
   "cell_type": "markdown",
   "metadata": {},
   "source": []
  },
  {
   "cell_type": "code",
   "execution_count": 11,
   "metadata": {},
   "outputs": [
    {
     "name": "stdout",
     "output_type": "stream",
     "text": [
      "WT:\n",
      "Skewness: -0.615\n",
      "Kurtosis:  0.950\n"
     ]
    }
   ],
   "source": [
    "print(\"WT:\")\n",
    "print(f\"Skewness: {WT_skewness: .3f}\")\n",
    "print(f\"Kurtosis: {WT_kurtosis: .3f}\")"
   ]
  },
  {
   "cell_type": "markdown",
   "metadata": {},
   "source": [
    "### WT\n",
    "\n",
    "---Skewness\n",
    "A negative skew of 0.615 indicates that the distribution is skewed to the left. The majority of the data points are concentrated on the right side, with lesser values pulling the mean to the left. There are more data-points concentrated on the right side of the distribution with a few larger values on the left side.\n",
    "\n",
    "---Kurtosis\n",
    "\n",
    "A kurtosis value of 0.95 suggests that the distribution is mesokurtic, meaning it has a peak and tails similar to that of a normal distribution. It indicates that it has a peak and tails similar to that of a normal distribution."
   ]
  },
  {
   "cell_type": "markdown",
   "metadata": {},
   "source": [
    "Q. 11.  Suppose we want to estimate the average weight of an adult male in    Mexico. We draw a random sample of 2,000 men from a population of 3,000,000 men and weigh them. We find that the average person in our sample weighs 200 pounds, and the standard deviation of the sample is 30 pounds. Calculate 94%,98%,96% confidence interval?"
   ]
  },
  {
   "cell_type": "code",
   "execution_count": null,
   "metadata": {},
   "outputs": [],
   "source": [
    "sample_mean = 200\n",
    "sample_std = 30\n",
    "sample_size = 2000\n"
   ]
  },
  {
   "cell_type": "code",
   "execution_count": 157,
   "metadata": {},
   "outputs": [],
   "source": [
    "from scipy.stats import norm"
   ]
  },
  {
   "cell_type": "code",
   "execution_count": null,
   "metadata": {},
   "outputs": [],
   "source": [
    "\n",
    "# Z-Score at 94%\n",
    "z_score_94pc = norm.ppf((1 + 0.94)/2)   \n",
    "\n",
    "\n",
    "# Z-Score at 96%\n",
    "z_score_96pc = norm.ppf((1 + 0.96)/2)   \n",
    "\n",
    "# Z-Score at 98%\n",
    "z_score_98pc = norm.ppf((1 + 0.98)/2)   \n",
    "\n"
   ]
  },
  {
   "cell_type": "code",
   "execution_count": null,
   "metadata": {},
   "outputs": [
    {
     "name": "stdout",
     "output_type": "stream",
     "text": [
      "At 94%, confidence interval is (198.738325292158, 201.261674707842)\n",
      "At 96%, confidence interval is (108.15355654222209, 291.8464434577779)\n",
      "At 98%, confidence interval is (95.96256028665124, 304.03743971334876)\n"
     ]
    }
   ],
   "source": [
    "# MARGIN OF ERROR\n",
    "\n",
    "margin_of_error_94pc = z_score_94pc * (sample_std / np.sqrt(sample_size))\n",
    "margin_of_error_96pc = z_score_96pc * (sample_size / np.sqrt(sample_size))\n",
    "margin_of_error_98pc = z_score_98pc * (sample_size / np.sqrt(sample_size))\n",
    "\n",
    "#Confidence_interval\n",
    "confidence_interval_94pc = (sample_mean - margin_of_error_94pc, sample_mean + margin_of_error_94pc)\n",
    "confidence_interval_96pc = (sample_mean - margin_of_error_96pc, sample_mean + margin_of_error_96pc)\n",
    "confidence_interval_98pc = (sample_mean - margin_of_error_98pc, sample_mean + margin_of_error_98pc)\n",
    "\n",
    "#Results\n",
    "print(\"At 94%, confidence interval is\", confidence_interval_94pc)\n",
    "print(\"At 96%, confidence interval is\", confidence_interval_96pc)\n",
    "print(\"At 98%, confidence interval is\", confidence_interval_98pc)"
   ]
  },
  {
   "cell_type": "markdown",
   "metadata": {},
   "source": [
    "Q12)  Below are the scores obtained by a student in tests \n",
    "34,36,36,38,38,39,39,40,40,41,41,41,41,42,42,45,49,56\n",
    "1)\tFind mean, median, variance, standard deviation.\n",
    "2)\tWhat can we say about the student marks? \n"
   ]
  },
  {
   "cell_type": "code",
   "execution_count": null,
   "metadata": {},
   "outputs": [],
   "source": [
    "test_score = np.array([34,36,36,38,38,39,39,40,40,41,41,41,41,42,42,45,49,56])"
   ]
  },
  {
   "cell_type": "code",
   "execution_count": null,
   "metadata": {},
   "outputs": [],
   "source": [
    "mean = np.mean(test_score)\n",
    "median = np.median(test_score)\n",
    "variance = np.var(test_score)\n",
    "std_deviation = np.std(test_score)"
   ]
  },
  {
   "cell_type": "code",
   "execution_count": null,
   "metadata": {},
   "outputs": [
    {
     "name": "stdout",
     "output_type": "stream",
     "text": [
      "Mean: 41.0\n",
      "Median: 40.5\n",
      "Variance: 24.11111111111111\n",
      "Standard deviation: 4.910306620885412\n"
     ]
    }
   ],
   "source": [
    "print(\"Mean:\", mean)\n",
    "print(\"Median:\", median)\n",
    "print(\"Variance:\", variance)\n",
    "\n",
    "print(\"Standard deviation:\", std_deviation)"
   ]
  },
  {
   "cell_type": "markdown",
   "metadata": {},
   "source": [
    "Note: It has been assumed that total marks is 60 and marks given are out of 60\n",
    "\n",
    "Observations: Mean and Median are close, So there is symmetrical distribution of scores. Standard deviation figure is very less, it means much of the scores are near to mean. The performance of students is showing increasing trend."
   ]
  },
  {
   "cell_type": "markdown",
   "metadata": {},
   "source": [
    "Q 20) Calculate probability from the given dataset for the below cases\n",
    "\n",
    "Data _set: Cars.csv\n",
    "Calculate the probability of MPG  of Cars for the below cases.\n",
    "       MPG <- Cars$MPG\n",
    "a.\tP(MPG>38)  \n",
    "b.\tP(MPG<40)  \n",
    "c.   P(20<MPG<50)\n"
   ]
  },
  {
   "cell_type": "code",
   "execution_count": null,
   "metadata": {},
   "outputs": [],
   "source": [
    "cars_data = pd.read_csv(\"Cars.csv\")"
   ]
  },
  {
   "cell_type": "code",
   "execution_count": null,
   "metadata": {},
   "outputs": [],
   "source": [
    "mpg = cars_data[\"MPG\"] "
   ]
  },
  {
   "cell_type": "code",
   "execution_count": null,
   "metadata": {},
   "outputs": [],
   "source": [
    "prob_MOREthan_38 = np.sum(mpg>38)/len(mpg)\n",
    "prob_LESSthan_40 = np.sum(mpg<40)/len(mpg)\n",
    "prob_between_20_to_50 = np.sum((mpg>=20) & (mpg <= 50))/len(mpg)"
   ]
  },
  {
   "cell_type": "code",
   "execution_count": null,
   "metadata": {},
   "outputs": [
    {
     "name": "stdout",
     "output_type": "stream",
     "text": [
      "a. P(MPG>38):  0.4074074074074074\n",
      "b. P(MPG<40):  0.4074074074074074\n",
      "c. P(20<MPG<50):  0.8518518518518519\n"
     ]
    }
   ],
   "source": [
    "# PROBABILITIES\n",
    "print(\"a. P(MPG>38): \", prob_MOREthan_38)\n",
    "print(\"b. P(MPG<40): \", prob_MOREthan_38)\n",
    "print(\"c. P(20<MPG<50): \", prob_between_20_to_50)"
   ]
  },
  {
   "cell_type": "markdown",
   "metadata": {},
   "source": [
    "Q 21. Check whether the data follows normal distribution\n",
    "a.\tCheck whether the MPG of Cars follows Normal Distribution \n",
    "        Dataset: Cars.csv"
   ]
  },
  {
   "cell_type": "code",
   "execution_count": 150,
   "metadata": {},
   "outputs": [
    {
     "name": "stdout",
     "output_type": "stream",
     "text": [
      "Requirement already satisfied: scipy in c:\\users\\lenovo\\appdata\\local\\programs\\python\\python312\\lib\\site-packages (1.11.3)\n",
      "Requirement already satisfied: numpy<1.28.0,>=1.21.6 in c:\\users\\lenovo\\appdata\\local\\programs\\python\\python312\\lib\\site-packages (from scipy) (1.26.1)\n"
     ]
    },
    {
     "name": "stderr",
     "output_type": "stream",
     "text": [
      "\n",
      "[notice] A new release of pip is available: 23.3.1 -> 24.0\n",
      "[notice] To update, run: python.exe -m pip install --upgrade pip\n"
     ]
    }
   ],
   "source": [
    "! pip install scipy\n",
    "from scipy.stats import t"
   ]
  },
  {
   "cell_type": "code",
   "execution_count": null,
   "metadata": {},
   "outputs": [
    {
     "name": "stdout",
     "output_type": "stream",
     "text": [
      "Shapiro-Wilk test statistic: 0.9779686331748962\n",
      "Shapiro-Wilk p-value: 0.17639249563217163\n"
     ]
    }
   ],
   "source": [
    "# Checking Normal Distribution of MPG with Kolmogorov-Smirnov test\n",
    "# Cars.csv is already loaded in the variable cars_data\n",
    "\n",
    "# Shapiro-Wilk test\n",
    "shapiro_test = stats.shapiro(mpg)\n",
    "print(\"Shapiro-Wilk test statistic:\", shapiro_test[0])\n",
    "print(\"Shapiro-Wilk p-value:\", shapiro_test[1])"
   ]
  },
  {
   "cell_type": "markdown",
   "metadata": {},
   "source": [
    "The above data is not normally distributed"
   ]
  },
  {
   "cell_type": "markdown",
   "metadata": {},
   "source": [
    "b.\tCheck Whether the Adipose Tissue (AT) and Waist Circumference(Waist)  from wc-at data set  follows Normal Distribution \n",
    "       Dataset: wc-at.csv"
   ]
  },
  {
   "cell_type": "code",
   "execution_count": null,
   "metadata": {},
   "outputs": [],
   "source": [
    "wc_at = pd.read_csv(\"wc-at.csv\") "
   ]
  },
  {
   "cell_type": "code",
   "execution_count": null,
   "metadata": {},
   "outputs": [],
   "source": [
    "wc = wc_at[\"Waist\"]\n",
    "at = wc_at[\"AT\"]"
   ]
  },
  {
   "cell_type": "code",
   "execution_count": null,
   "metadata": {},
   "outputs": [
    {
     "name": "stdout",
     "output_type": "stream",
     "text": [
      "Shapiro-Wilk test statistic: 0.9558579921722412\n",
      "Shapiro-Wilk p-value: 0.0011704873759299517\n"
     ]
    }
   ],
   "source": [
    "shapiro_test = stats.shapiro(wc)\n",
    "print(\"Shapiro-Wilk test statistic:\", shapiro_test[0])\n",
    "print(\"Shapiro-Wilk p-value:\", shapiro_test[1])"
   ]
  },
  {
   "cell_type": "code",
   "execution_count": null,
   "metadata": {},
   "outputs": [
    {
     "name": "stdout",
     "output_type": "stream",
     "text": [
      "Shapiro-Wilk test statistic: 0.9523370862007141\n",
      "Shapiro-Wilk p-value: 0.0006539996829815209\n"
     ]
    }
   ],
   "source": [
    "shapiro_test = stats.shapiro(at)\n",
    "print(\"Shapiro-Wilk test statistic:\", shapiro_test[0])\n",
    "print(\"Shapiro-Wilk p-value:\", shapiro_test[1])"
   ]
  },
  {
   "cell_type": "code",
   "execution_count": null,
   "metadata": {},
   "outputs": [],
   "source": []
  },
  {
   "cell_type": "markdown",
   "metadata": {},
   "source": [
    "Q 22) Calculate the Z scores of  90% confidence interval,94% confidence interval, 60% confidence interval "
   ]
  },
  {
   "cell_type": "code",
   "execution_count": null,
   "metadata": {},
   "outputs": [
    {
     "name": "stdout",
     "output_type": "stream",
     "text": [
      "Z score: 1.7972\n"
     ]
    }
   ],
   "source": [
    "# to solve the problem it is being assumed that:\n",
    "population = 1000\n",
    "population_mean = 100\n",
    "population_std = 15 # std deviation\n",
    "confidence_levels = [0.9, 0.94, 0.6]\n",
    " \n",
    "# Z-SCORE-inverse cumulative distribution function\n",
    "z_score = np.sqrt(level) * np.exp(stats.norm.ppf(1 - (1 - level) / 2))\n",
    "\n",
    "print(f\"Z score: {z_score:.4f}\")\n"
   ]
  },
  {
   "cell_type": "code",
   "execution_count": null,
   "metadata": {},
   "outputs": [
    {
     "name": "stdout",
     "output_type": "stream",
     "text": [
      "Confidence level: 90.00%\n",
      "Z score: 4.9144\n",
      "\n",
      "\n",
      "Confidence level: 94.00%\n",
      "Z score: 6.3589\n",
      "\n",
      "\n",
      "Confidence level: 60.00%\n",
      "Z score: 1.7972\n",
      "\n",
      "\n"
     ]
    }
   ],
   "source": [
    "import pandas as pd\n",
    "import numpy as np\n",
    "\n",
    "# Define population mean and standard deviation (replace with actual values if known)\n",
    "population_mean = 100  # Example mean\n",
    "population_std = 20  # Example standard deviation\n",
    "\n",
    "# Set confidence levels\n",
    "confidence_levels = [0.9, 0.94, 0.6]\n",
    "\n",
    "for level in confidence_levels:\n",
    "    # Calculate standard error of the mean\n",
    "    standard_error = population_std / np.sqrt(100)\n",
    "\n",
    "    # Calculate Z score using inverse cumulative distribution function (CDF)\n",
    "    z_score = np.sqrt(level) * np.exp(stats.norm.ppf(1 - (1 - level) / 2))\n",
    "\n",
    "    \n",
    "\n",
    "    # Print results\n",
    "    print(f\"Confidence level: {100 * level:.2f}%\")\n",
    "    print(f\"Z score: {z_score:.4f}\")\n",
    "   \n",
    "    print(\"\\n\")"
   ]
  },
  {
   "cell_type": "markdown",
   "metadata": {},
   "source": [
    "Q 23. Calculate the t scores of 95% confidence interval, 96% confidence interval, 99% confidence interval for sample size of 25"
   ]
  },
  {
   "cell_type": "code",
   "execution_count": null,
   "metadata": {},
   "outputs": [
    {
     "name": "stdout",
     "output_type": "stream",
     "text": [
      "Confidence Level | T-Scores\n",
      "-----------------|--------\n",
      "90.00%           |    1.7109\n",
      "94.00%           |    1.9740\n",
      "60.00%           |    0.8569\n"
     ]
    }
   ],
   "source": [
    "n = 25\n",
    "confidenct_interval = [0.95, 0.96, 0.99]\n",
    "\n",
    "# degree of freedom\n",
    "df = n-1 \n",
    "\n",
    "#  T-scores in T-distribution table \n",
    "from scipy import stats\n",
    "t_scores = np.array([\n",
    "    stats.t.ppf(1 - (1 - level) / 2, df)\n",
    "    for level in confidence_levels\n",
    "])\n",
    "\n",
    "# Print results\n",
    "print(\"Confidence Level | T-Scores\")\n",
    "print(\"-----------------|--------\")\n",
    "for level, score in zip(confidence_levels, t_scores):\n",
    "    print(f\"{100 * level:.2f}%           |    {score:.4f}\")"
   ]
  },
  {
   "cell_type": "markdown",
   "metadata": {},
   "source": [
    "  Q 24)   A Government  company claims that an average light bulb lasts 270 days. A researcher randomly selects 18 bulbs for testing. The sampled bulbs last an average of 260 days, with a standard deviation of 90 days. If the CEO's claim were true, what is the probability that 18 randomly selected bulbs would have an average life of no more than 260 days\n",
    "Hint:  \n",
    "   rcode   pt(tscore,df)  \n",
    " df  degrees of freedom\n"
   ]
  },
  {
   "cell_type": "code",
   "execution_count": 13,
   "metadata": {},
   "outputs": [
    {
     "name": "stdout",
     "output_type": "stream",
     "text": [
      "Conclusion: Hence, probability of 18 randomly selected lightbulbs to have average life of upto 260 days: 0.32167253567098364\n"
     ]
    }
   ],
   "source": [
    "import numpy as np\n",
    "from scipy.stats import t\n",
    "\n",
    "# Given data\n",
    "sample_mean_lightbulb = 260  # sample mean\n",
    "population_mean_lightbulb = 270  # population mean\n",
    "sample_std_lightbulb = 90  # standard deviation of the sample\n",
    "sample_size_lightbulb = 18  # sample size\n",
    "\n",
    "# Step 1: Calculate the t-score\n",
    "t_score = (sample_mean - population_mean) / (sample_std / np.sqrt(sample_size))\n",
    "\n",
    "# Step 2: Determine degrees of freedom\n",
    "df_lightbulb = sample_size - 1\n",
    "\n",
    "# Step 3: Calculate the probability using the cumulative distribution function (CDF)\n",
    "prob_lightbulb = t.cdf(t_score, df)\n",
    "\n",
    "print(\"Conclusion: Hence, probability of 18 randomly selected lightbulbs to have average life of upto 260 days:\", prob_lightbulb)\n"
   ]
  },
  {
   "cell_type": "code",
   "execution_count": null,
   "metadata": {},
   "outputs": [],
   "source": []
  }
 ],
 "metadata": {
  "kernelspec": {
   "display_name": "Python 3",
   "language": "python",
   "name": "python3"
  },
  "language_info": {
   "codemirror_mode": {
    "name": "ipython",
    "version": 3
   },
   "file_extension": ".py",
   "mimetype": "text/x-python",
   "name": "python",
   "nbconvert_exporter": "python",
   "pygments_lexer": "ipython3",
   "version": "3.12.0"
  }
 },
 "nbformat": 4,
 "nbformat_minor": 2
}
